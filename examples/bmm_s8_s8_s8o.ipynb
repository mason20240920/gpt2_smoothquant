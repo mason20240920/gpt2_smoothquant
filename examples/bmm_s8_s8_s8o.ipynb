{
 "cells": [
  {
   "cell_type": "code",
   "id": "initial_id",
   "metadata": {
    "collapsed": true,
    "ExecuteTime": {
     "end_time": "2025-03-21T08:17:43.956357Z",
     "start_time": "2025-03-21T08:17:43.049034Z"
    }
   },
   "source": [
    "import torch\n",
    "\n",
    "from quant_ops.quant_bmm import BMM_S8T_S8N_S8O\n",
    "\n",
    "a_tensor: torch.Tensor = torch.randn(1, 1, 4, 5)\n",
    "b_tensor: torch.Tensor = torch.randn(1, 1, 5, 4)\n",
    "\n",
    "c_tensor = torch.matmul(a_tensor, b_tensor)\n",
    "print(c_tensor)"
   ],
   "outputs": [
    {
     "name": "stdout",
     "output_type": "stream",
     "text": [
      "tensor([[[[ 1.4984,  1.0325,  0.8960, -2.2726],\n",
      "          [ 3.7410,  0.8018, -1.8444,  0.6214],\n",
      "          [-2.6356, -0.1725,  2.4648, -1.0150],\n",
      "          [-1.1821,  1.5867, -0.5682, -0.1705]]]])\n"
     ]
    }
   ],
   "execution_count": 1
  },
  {
   "metadata": {
    "ExecuteTime": {
     "end_time": "2025-03-21T08:17:44.012574Z",
     "start_time": "2025-03-21T08:17:43.960550Z"
    }
   },
   "cell_type": "code",
   "source": [
    "from supports.quant_base_method import quant_per_tensor_asymmetric_int8\n",
    "\n",
    "q_a_tensor, a_scales, a_zp = quant_per_tensor_asymmetric_int8(a_tensor)\n",
    "q_b_tensor, b_scales, b_zp = quant_per_tensor_asymmetric_int8(b_tensor)\n",
    "q_c_tensor, c_scales, c_zp = quant_per_tensor_asymmetric_int8(c_tensor)"
   ],
   "id": "1d55f1101f5265df",
   "outputs": [],
   "execution_count": 2
  },
  {
   "metadata": {
    "ExecuteTime": {
     "end_time": "2025-03-21T08:17:44.074614Z",
     "start_time": "2025-03-21T08:17:44.072172Z"
    }
   },
   "cell_type": "code",
   "source": [
    "ops: BMM_S8T_S8N_S8O = BMM_S8T_S8N_S8O.from_a_and_b(\n",
    "    a_zp=a_zp,\n",
    "    b_zp=b_zp,\n",
    "    o_zp=c_zp,\n",
    "    a_scale=a_scales,\n",
    "    b_scale=b_scales,\n",
    "    o_scale=c_scales,\n",
    ")"
   ],
   "id": "4c0ee837b12664ec",
   "outputs": [],
   "execution_count": 3
  },
  {
   "metadata": {
    "ExecuteTime": {
     "end_time": "2025-03-21T08:17:44.082924Z",
     "start_time": "2025-03-21T08:17:44.081041Z"
    }
   },
   "cell_type": "code",
   "source": "q_c = ops(q_a_tensor, q_b_tensor)",
   "id": "bdbe00e1da130294",
   "outputs": [],
   "execution_count": 4
  },
  {
   "metadata": {
    "ExecuteTime": {
     "end_time": "2025-03-21T08:17:44.097080Z",
     "start_time": "2025-03-21T08:17:44.094490Z"
    }
   },
   "cell_type": "code",
   "source": "print(q_c)",
   "id": "724dd53d1e16dc31",
   "outputs": [
    {
     "name": "stdout",
     "output_type": "stream",
     "text": [
      "tensor([[[[  35,   18,   11, -113],\n",
      "          [ 126,    9,  -96,    1],\n",
      "          [-128,  -29,   75,  -63],\n",
      "          [ -71,   41,  -46,  -30]]]], dtype=torch.int8)\n"
     ]
    }
   ],
   "execution_count": 5
  },
  {
   "metadata": {
    "ExecuteTime": {
     "end_time": "2025-03-21T08:17:44.123830Z",
     "start_time": "2025-03-21T08:17:44.121248Z"
    }
   },
   "cell_type": "code",
   "source": [
    "from supports.quant_base_method import dequantize_asymmetric_quantize\n",
    "\n",
    "f32_o = dequantize_asymmetric_quantize(q_c, c_scales, c_zp)\n",
    "print(f32_o)"
   ],
   "id": "43d9502704ea7f1c",
   "outputs": [
    {
     "name": "stdout",
     "output_type": "stream",
     "text": [
      "tensor([[[[ 1.4504,  1.0253,  0.8502, -2.2506],\n",
      "          [ 3.7259,  0.8002, -1.8254,  0.6001],\n",
      "          [-2.6256, -0.1500,  2.4506, -1.0002],\n",
      "          [-1.2003,  1.6004, -0.5751, -0.1750]]]])\n"
     ]
    }
   ],
   "execution_count": 6
  },
  {
   "metadata": {
    "ExecuteTime": {
     "end_time": "2025-03-21T08:17:44.139260Z",
     "start_time": "2025-03-21T08:17:44.137646Z"
    }
   },
   "cell_type": "code",
   "source": "",
   "id": "8700d1b7629ef0a8",
   "outputs": [],
   "execution_count": null
  }
 ],
 "metadata": {
  "kernelspec": {
   "display_name": "Python 3",
   "language": "python",
   "name": "python3"
  },
  "language_info": {
   "codemirror_mode": {
    "name": "ipython",
    "version": 2
   },
   "file_extension": ".py",
   "mimetype": "text/x-python",
   "name": "python",
   "nbconvert_exporter": "python",
   "pygments_lexer": "ipython2",
   "version": "2.7.6"
  }
 },
 "nbformat": 4,
 "nbformat_minor": 5
}
