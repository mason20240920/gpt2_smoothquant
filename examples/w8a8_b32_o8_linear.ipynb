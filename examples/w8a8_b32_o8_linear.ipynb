{
 "cells": [
  {
   "metadata": {},
   "cell_type": "markdown",
   "source": "### activation is int8, weights is per channel wise quant\n",
   "id": "2ca3fe1918aac4af"
  },
  {
   "metadata": {
    "ExecuteTime": {
     "end_time": "2025-03-21T07:16:07.228975Z",
     "start_time": "2025-03-21T07:16:07.222594Z"
    }
   },
   "cell_type": "code",
   "source": [
    "import torch\n",
    "from supports.quant_base_method import quant_per_tensor_asymmetric_int8_with_val\n",
    "\n",
    "input_tensor = torch.rand(2, 3, 4, dtype=torch.float32).uniform_(-1.0, 3.0)\n",
    "\n",
    "# asymmetric quantization\n",
    "asym_input, input_scales, input_zp = quant_per_tensor_asymmetric_int8_with_val(input_tensor)"
   ],
   "id": "e4edb1748078adb4",
   "outputs": [
    {
     "name": "stdout",
     "output_type": "stream",
     "text": [
      "tensor(-43, dtype=torch.int8)\n"
     ]
    }
   ],
   "execution_count": 2
  },
  {
   "metadata": {
    "ExecuteTime": {
     "end_time": "2025-03-21T07:16:07.780006Z",
     "start_time": "2025-03-21T07:16:07.774799Z"
    }
   },
   "cell_type": "code",
   "source": [
    "from supports.quant_base_method import channel_wise_symmetric_quantize\n",
    "\n",
    "# per channel quantization weights\n",
    "weights_tensor = torch.rand(5, 4, dtype=torch.float32).uniform_(-2.0, 2.0)\n",
    "print(weights_tensor)\n",
    "bias_tensor = torch.rand(5, dtype=torch.float32).uniform_(-2.0, 2.0)\n",
    "print(bias_tensor)\n",
    "\n",
    "output_f32 = torch.matmul(input_tensor, weights_tensor.t()) + bias_tensor\n",
    "q_output_f32, output_scales, output_zp = quant_per_tensor_asymmetric_int8_with_val(output_f32, max_val=10, min_val=-10)\n",
    "print(q_output_f32)"
   ],
   "id": "9ed2339ae19c5e42",
   "outputs": [
    {
     "name": "stdout",
     "output_type": "stream",
     "text": [
      "tensor([[-0.5876,  1.8591,  1.1977, -0.6384],\n",
      "        [ 1.1254,  0.2665, -1.4759,  0.7779],\n",
      "        [-0.2259, -1.6501,  1.0892, -1.7259],\n",
      "        [-0.4059,  0.4066,  0.3698, -1.9416],\n",
      "        [ 0.2653, -0.3159, -0.4189, -1.3381]])\n",
      "tensor([ 1.9125, -1.6158,  0.9849,  0.7302, -0.3656])\n",
      "tensor(0, dtype=torch.int8)\n",
      "tensor([[[ 26,  37, -96, -60, -54],\n",
      "         [ 31, -34,  28,   8, -10],\n",
      "         [127, -56, -11,  31, -32]],\n",
      "\n",
      "        [[ 40, -40,  35,  26,   1],\n",
      "         [ 14,  28, -53, -60, -47],\n",
      "         [ 10,  10, -57, -51, -48]]], dtype=torch.int8)\n"
     ]
    }
   ],
   "execution_count": 3
  },
  {
   "metadata": {
    "ExecuteTime": {
     "end_time": "2025-03-21T07:16:08.870783Z",
     "start_time": "2025-03-21T07:16:08.865358Z"
    }
   },
   "cell_type": "code",
   "source": [
    "per_channel_monitor, channel_wise = channel_wise_symmetric_quantize(weights_tensor.t())\n",
    "print(per_channel_monitor)\n",
    "print(channel_wise)"
   ],
   "id": "5791839f66f25973",
   "outputs": [
    {
     "name": "stdout",
     "output_type": "stream",
     "text": [
      "tensor([[ -40,   97,  -17,  -27,   25],\n",
      "        [ 127,   23, -121,   27,  -30],\n",
      "        [  82, -127,   80,   24,  -40],\n",
      "        [ -44,   67, -127, -127, -127]], dtype=torch.int8)\n",
      "tensor([0.0146, 0.0116, 0.0136, 0.0153, 0.0105])\n"
     ]
    }
   ],
   "execution_count": 4
  },
  {
   "cell_type": "code",
   "id": "initial_id",
   "metadata": {
    "collapsed": true,
    "ExecuteTime": {
     "end_time": "2025-03-21T07:16:09.658032Z",
     "start_time": "2025-03-21T07:16:09.651871Z"
    }
   },
   "source": [
    "from quant_ops.quant_linear import W8A8B32O8LinearForMac\n",
    "\n",
    "origin_linear: torch.nn.Module = torch.nn.Linear(4, 5)\n",
    "# 1. 直接修改权重的值\n",
    "origin_linear.weight.data.copy_(weights_tensor)\n",
    "origin_linear.bias.data.copy_(bias_tensor)\n",
    "\n",
    "ops: W8A8B32O8LinearForMac = W8A8B32O8LinearForMac.from_float(module=origin_linear,\n",
    "                                                              input_scale=input_scales,\n",
    "                                                              input_zp=input_zp,\n",
    "                                                              output_scale=output_scales,\n",
    "                                                              output_zp=output_zp)\n",
    "\n",
    "q_output, o_output = ops(asym_input)\n",
    "print(q_output)\n",
    "print(o_output)\n"
   ],
   "outputs": [
    {
     "name": "stdout",
     "output_type": "stream",
     "text": [
      "tensor([[[  9,  50, -89, -48, -35],\n",
      "         [  7, -12,  15,   0,  -4],\n",
      "         [ 73, -22, -18,  14, -19]],\n",
      "\n",
      "        [[ 16, -18,  23,  17,   5],\n",
      "         [  0,  32, -51, -51, -35],\n",
      "         [ -9,  25, -58, -47, -34]]], dtype=torch.int8)\n",
      "tensor([[[  4103,  28714, -44082, -20956, -22153],\n",
      "         [  3360,  -7406,   7781,   -195,  -3057],\n",
      "         [ 33413, -12803,  -8988,   6212, -12325]],\n",
      "\n",
      "        [[  7506, -10756,  11447,   7525,   3513],\n",
      "         [   191,  18718, -25053, -22465, -22548],\n",
      "         [ -4381,  14851, -28734, -20740, -21983]]], dtype=torch.int32)\n"
     ]
    }
   ],
   "execution_count": 5
  },
  {
   "metadata": {
    "ExecuteTime": {
     "end_time": "2025-03-21T07:16:12.739276Z",
     "start_time": "2025-03-21T07:16:12.735832Z"
    }
   },
   "cell_type": "code",
   "source": "print(output_f32)",
   "id": "5350c1478a0e0a8d",
   "outputs": [
    {
     "name": "stdout",
     "output_type": "stream",
     "text": [
      "tensor([[[ 2.0843,  2.9468, -7.4702, -4.6374, -4.1752],\n",
      "         [ 2.4841, -2.6226,  2.2167,  0.6921, -0.7242],\n",
      "         [10.0681, -4.3828, -0.8257,  2.4475, -2.4599]],\n",
      "\n",
      "        [[ 3.1800, -3.0604,  2.7773,  2.0580,  0.0826],\n",
      "         [ 1.1247,  2.2514, -4.0932, -4.6438, -3.6131],\n",
      "         [ 0.8495,  0.7875, -4.4329, -3.9332, -3.7006]]])\n"
     ]
    }
   ],
   "execution_count": 6
  },
  {
   "metadata": {
    "ExecuteTime": {
     "end_time": "2025-03-21T07:19:31.660947Z",
     "start_time": "2025-03-21T07:19:31.656604Z"
    }
   },
   "cell_type": "code",
   "source": [
    "from supports.quant_base_method import quant_bias\n",
    "q_bias = quant_bias(bias_tensor, input_scales, weight_scale=channel_wise)\n",
    "output_s32 = (torch.matmul((asym_input.to(torch.int32) - input_zp), per_channel_monitor.to(torch.int32)) + q_bias)\n",
    "print(output_s32)"
   ],
   "id": "f7688f404f88d692",
   "outputs": [
    {
     "name": "stdout",
     "output_type": "stream",
     "text": [
      "tensor([[[  4103,  28714, -44082, -20956, -22153],\n",
      "         [  3360,  -7406,   7781,   -195,  -3057],\n",
      "         [ 33413, -12803,  -8988,   6212, -12325]],\n",
      "\n",
      "        [[  7506, -10756,  11447,   7525,   3513],\n",
      "         [   191,  18718, -25053, -22465, -22548],\n",
      "         [ -4381,  14851, -28734, -20740, -21983]]], dtype=torch.int32)\n"
     ]
    }
   ],
   "execution_count": 10
  },
  {
   "metadata": {
    "ExecuteTime": {
     "end_time": "2025-03-21T07:16:14.503726Z",
     "start_time": "2025-03-21T07:16:14.501959Z"
    }
   },
   "cell_type": "code",
   "source": "",
   "id": "24998715b2cbc720",
   "outputs": [],
   "execution_count": null
  }
 ],
 "metadata": {
  "kernelspec": {
   "display_name": "Python 3",
   "language": "python",
   "name": "python3"
  },
  "language_info": {
   "codemirror_mode": {
    "name": "ipython",
    "version": 2
   },
   "file_extension": ".py",
   "mimetype": "text/x-python",
   "name": "python",
   "nbconvert_exporter": "python",
   "pygments_lexer": "ipython2",
   "version": "2.7.6"
  }
 },
 "nbformat": 4,
 "nbformat_minor": 5
}
